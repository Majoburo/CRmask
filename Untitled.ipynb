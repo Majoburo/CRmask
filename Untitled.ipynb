{
 "cells": [
  {
   "cell_type": "code",
   "execution_count": 41,
   "id": "179468a1",
   "metadata": {},
   "outputs": [],
   "source": [
    "import numpy as np\n",
    "from astropy import stats\n",
    "from astropy.io import fits\n",
    "import glob\n",
    "\n",
    "#Value for resistant mean\n",
    "def cr_rej(im, lo_rej=5, hi_rej=5, rot=1):\n",
    "    sigma = 3\n",
    "    #if rot == 1:\n",
    "    #    im = rotate(im)\n",
    "    nim,nx,ny = im.shape\n",
    "\n",
    "    mask = np.full((nim, nx, ny),True)\n",
    "    clean =  np.full((nx, ny),True)\n",
    "    good =  np.full((nx, ny),True)\n",
    "\n",
    "#Rescale spectra\n",
    "#Could subtract floor, but assuming roughly equal exposures\n",
    "    if nim > 1:\n",
    "        scale0 = np.median(im[0,:,:])\n",
    "        for i in range(1,nim):\n",
    "            scale = np.median(im[i,:,:])\n",
    "            im[i,:,:] = im[i,:,:]*scale0/scale\n",
    "\n",
    "#Ideally, we would look row-by-row first, doing pixel-by-pixel\n",
    "\n",
    "    mean, median, meansig = stats.sigma_clipped_stats(im, sigma=sigma, maxiters=5,axis=0)\n",
    "    mask = ((im - mean) > -1*lo_rej*meansig)*((im - mean) < hi_rej*meansig)\n",
    "    good = np.sum(mask,axis=0)\n",
    "    clean = np.sum(im*mask/good,axis=0)\n",
    "\n",
    "\n",
    "    return clean\n"
   ]
  },
  {
   "cell_type": "code",
   "execution_count": 42,
   "id": "090a6909",
   "metadata": {},
   "outputs": [],
   "source": [
    "files=[\"/home/majoburo/Work/UCSC_spectral_pipeline/data-2021-12-05-shane-Ryan.Foley/r1090.fits\",\n",
    "      \"/home/majoburo/Work/UCSC_spectral_pipeline/data-2021-12-05-shane-Ryan.Foley/r1091.fits\",\n",
    "      \"/home/majoburo/Work/UCSC_spectral_pipeline/data-2021-12-05-shane-Ryan.Foley/r1092.fits\",\n",
    "      \"/home/majoburo/Work/UCSC_spectral_pipeline/data-2021-12-05-shane-Ryan.Foley/r1093.fits\"]\n",
    "im=[]\n",
    "for file in files:\n",
    "    hdu = fits.open(file)\n",
    "    im.append(hdu[0].data)\n",
    "im = np.array(im)"
   ]
  },
  {
   "cell_type": "code",
   "execution_count": 43,
   "id": "8fa72e6f",
   "metadata": {},
   "outputs": [
    {
     "name": "stderr",
     "output_type": "stream",
     "text": [
      "/tmp/ipykernel_8354/789706956.py:30: RuntimeWarning: invalid value encountered in true_divide\n",
      "  clean = np.sum(im*mask/good,axis=0)\n"
     ]
    }
   ],
   "source": [
    "clean = cr_rej(im, lo_rej=5, hi_rej=5, rot=1)\n",
    "hdu[0].data= clean\n",
    "hdu.writeto('newtable.fits',overwrite=True)\n",
    "hdu.close()"
   ]
  },
  {
   "cell_type": "code",
   "execution_count": null,
   "id": "63ba2246",
   "metadata": {},
   "outputs": [],
   "source": []
  },
  {
   "cell_type": "code",
   "execution_count": null,
   "id": "581b7e01",
   "metadata": {},
   "outputs": [],
   "source": []
  }
 ],
 "metadata": {
  "kernelspec": {
   "display_name": "Python 3 (ipykernel)",
   "language": "python",
   "name": "python3"
  },
  "language_info": {
   "codemirror_mode": {
    "name": "ipython",
    "version": 3
   },
   "file_extension": ".py",
   "mimetype": "text/x-python",
   "name": "python",
   "nbconvert_exporter": "python",
   "pygments_lexer": "ipython3",
   "version": "3.8.13"
  }
 },
 "nbformat": 4,
 "nbformat_minor": 5
}
